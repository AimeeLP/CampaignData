{
 "cells": [
  {
   "cell_type": "markdown",
   "metadata": {},
   "source": [
    "# Hackathon 2"
   ]
  },
  {
   "cell_type": "markdown",
   "metadata": {},
   "source": [
    "## 2016 US Campaign Data Review"
   ]
  },
  {
   "cell_type": "markdown",
   "metadata": {},
   "source": [
    "##### Brief:\n",
    "Use Classification techniques to establish the relationship between funding of candidates and whether they won or lost; potentially being able to establish geographical differences as well.\n",
    "\n",
    "##### Deliverables:\n",
    "A well documented and organised jupyter notebook using a Decision Tree model to establish related variables.\n",
    "\n",
    "##### Success Metrics:\n",
    "- Precision\n",
    "- Accuracy\n",
    "- Sensitivity"
   ]
  },
  {
   "cell_type": "markdown",
   "metadata": {},
   "source": [
    "********\n",
    "### Source Data"
   ]
  },
  {
   "cell_type": "code",
   "execution_count": 11,
   "metadata": {},
   "outputs": [],
   "source": [
    "import pandas as pd\n",
    "import numpy as np\n",
    "import seaborn as sns\n",
    "import matplotlib \n",
    "import matplotlib.pyplot as plt\n",
    "import pydotplus\n",
    "\n",
    "from sklearn import tree, metrics\n",
    "from sklearn.model_selection import train_test_split\n",
    "from sklearn.tree import export_graphviz\n",
    "from sklearn.externals.six import StringIO\n",
    "from IPython.display import Image"
   ]
  },
  {
   "cell_type": "code",
   "execution_count": 2,
   "metadata": {},
   "outputs": [],
   "source": [
    "data = pd.read_csv('summary.csv')"
   ]
  },
  {
   "cell_type": "code",
   "execution_count": 3,
   "metadata": {},
   "outputs": [
    {
     "data": {
      "text/html": [
       "<div>\n",
       "<style scoped>\n",
       "    .dataframe tbody tr th:only-of-type {\n",
       "        vertical-align: middle;\n",
       "    }\n",
       "\n",
       "    .dataframe tbody tr th {\n",
       "        vertical-align: top;\n",
       "    }\n",
       "\n",
       "    .dataframe thead th {\n",
       "        text-align: right;\n",
       "    }\n",
       "</style>\n",
       "<table border=\"1\" class=\"dataframe\">\n",
       "  <thead>\n",
       "    <tr style=\"text-align: right;\">\n",
       "      <th></th>\n",
       "      <th>can_id</th>\n",
       "      <th>can_nam</th>\n",
       "      <th>can_off</th>\n",
       "      <th>can_off_sta</th>\n",
       "      <th>can_off_dis</th>\n",
       "      <th>can_par_aff</th>\n",
       "      <th>can_inc_cha_ope_sea</th>\n",
       "      <th>can_str1</th>\n",
       "      <th>can_str2</th>\n",
       "      <th>can_cit</th>\n",
       "      <th>...</th>\n",
       "      <th>cas_on_han_beg_of_per</th>\n",
       "      <th>cas_on_han_clo_of_per</th>\n",
       "      <th>net_con</th>\n",
       "      <th>net_ope_exp</th>\n",
       "      <th>deb_owe_by_com</th>\n",
       "      <th>deb_owe_to_com</th>\n",
       "      <th>cov_sta_dat</th>\n",
       "      <th>cov_end_dat</th>\n",
       "      <th>winner</th>\n",
       "      <th>votes</th>\n",
       "    </tr>\n",
       "  </thead>\n",
       "  <tbody>\n",
       "    <tr>\n",
       "      <th>0</th>\n",
       "      <td>H2GA12121</td>\n",
       "      <td>ALLEN, RICHARD W</td>\n",
       "      <td>H</td>\n",
       "      <td>GA</td>\n",
       "      <td>12.0</td>\n",
       "      <td>REP</td>\n",
       "      <td>INCUMBENT</td>\n",
       "      <td>2237 PICKENS RD</td>\n",
       "      <td>NaN</td>\n",
       "      <td>AUGUSTA</td>\n",
       "      <td>...</td>\n",
       "      <td>$60,109.57</td>\n",
       "      <td>$175,613.35</td>\n",
       "      <td>$1,074,949.50</td>\n",
       "      <td>$907,156.21</td>\n",
       "      <td>$1,125,000.00</td>\n",
       "      <td>NaN</td>\n",
       "      <td>1/1/2015</td>\n",
       "      <td>10/19/2016</td>\n",
       "      <td>Y</td>\n",
       "      <td>158708.0</td>\n",
       "    </tr>\n",
       "    <tr>\n",
       "      <th>1</th>\n",
       "      <td>H6PA02171</td>\n",
       "      <td>EVANS, DWIGHT</td>\n",
       "      <td>H</td>\n",
       "      <td>PA</td>\n",
       "      <td>2.0</td>\n",
       "      <td>DEM</td>\n",
       "      <td>CHALLENGER</td>\n",
       "      <td>PO BOX 6578</td>\n",
       "      <td>NaN</td>\n",
       "      <td>PHILADELPHIA</td>\n",
       "      <td>...</td>\n",
       "      <td>NaN</td>\n",
       "      <td>$105,687.23</td>\n",
       "      <td>$1,406,719.06</td>\n",
       "      <td>$1,298,831.83</td>\n",
       "      <td>NaN</td>\n",
       "      <td>NaN</td>\n",
       "      <td>11/2/2015</td>\n",
       "      <td>10/19/2016</td>\n",
       "      <td>Y</td>\n",
       "      <td>310770.0</td>\n",
       "    </tr>\n",
       "    <tr>\n",
       "      <th>2</th>\n",
       "      <td>H6FL04105</td>\n",
       "      <td>RUTHERFORD, JOHN</td>\n",
       "      <td>H</td>\n",
       "      <td>FL</td>\n",
       "      <td>4.0</td>\n",
       "      <td>REP</td>\n",
       "      <td>OPEN</td>\n",
       "      <td>3817 VICKERS LAKE DRIVE</td>\n",
       "      <td>NaN</td>\n",
       "      <td>JACKSONVILLE</td>\n",
       "      <td>...</td>\n",
       "      <td>NaN</td>\n",
       "      <td>$35,645.09</td>\n",
       "      <td>$650,855.38</td>\n",
       "      <td>$656,210.29</td>\n",
       "      <td>$60,000.00</td>\n",
       "      <td>NaN</td>\n",
       "      <td>4/1/2016</td>\n",
       "      <td>10/19/2016</td>\n",
       "      <td>Y</td>\n",
       "      <td>286018.0</td>\n",
       "    </tr>\n",
       "    <tr>\n",
       "      <th>3</th>\n",
       "      <td>H4MT01041</td>\n",
       "      <td>ZINKE, RYAN K</td>\n",
       "      <td>H</td>\n",
       "      <td>MT</td>\n",
       "      <td>0.0</td>\n",
       "      <td>REP</td>\n",
       "      <td>INCUMBENT</td>\n",
       "      <td>409 2ND ST W</td>\n",
       "      <td>NaN</td>\n",
       "      <td>WHITEFISH</td>\n",
       "      <td>...</td>\n",
       "      <td>$83,815.78</td>\n",
       "      <td>$399,122.61</td>\n",
       "      <td>$4,938,943.74</td>\n",
       "      <td>$5,055,942.15</td>\n",
       "      <td>NaN</td>\n",
       "      <td>NaN</td>\n",
       "      <td>1/1/2015</td>\n",
       "      <td>10/19/2016</td>\n",
       "      <td>Y</td>\n",
       "      <td>280476.0</td>\n",
       "    </tr>\n",
       "    <tr>\n",
       "      <th>4</th>\n",
       "      <td>H8CA09060</td>\n",
       "      <td>LEE, BARBARA</td>\n",
       "      <td>H</td>\n",
       "      <td>CA</td>\n",
       "      <td>13.0</td>\n",
       "      <td>DEM</td>\n",
       "      <td>INCUMBENT</td>\n",
       "      <td>409 13TH ST, 17TH FL</td>\n",
       "      <td>NaN</td>\n",
       "      <td>OAKLAND</td>\n",
       "      <td>...</td>\n",
       "      <td>$83,690.60</td>\n",
       "      <td>$181,338.23</td>\n",
       "      <td>$1,197,676.61</td>\n",
       "      <td>$949,488.98</td>\n",
       "      <td>$4,401.75</td>\n",
       "      <td>NaN</td>\n",
       "      <td>1/1/2015</td>\n",
       "      <td>10/19/2016</td>\n",
       "      <td>Y</td>\n",
       "      <td>277390.0</td>\n",
       "    </tr>\n",
       "  </tbody>\n",
       "</table>\n",
       "<p>5 rows × 51 columns</p>\n",
       "</div>"
      ],
      "text/plain": [
       "      can_id           can_nam can_off can_off_sta  can_off_dis can_par_aff  \\\n",
       "0  H2GA12121  ALLEN, RICHARD W       H          GA         12.0         REP   \n",
       "1  H6PA02171     EVANS, DWIGHT       H          PA          2.0         DEM   \n",
       "2  H6FL04105  RUTHERFORD, JOHN       H          FL          4.0         REP   \n",
       "3  H4MT01041     ZINKE, RYAN K       H          MT          0.0         REP   \n",
       "4  H8CA09060      LEE, BARBARA       H          CA         13.0         DEM   \n",
       "\n",
       "  can_inc_cha_ope_sea                 can_str1 can_str2       can_cit  \\\n",
       "0           INCUMBENT          2237 PICKENS RD      NaN       AUGUSTA   \n",
       "1          CHALLENGER              PO BOX 6578      NaN  PHILADELPHIA   \n",
       "2                OPEN  3817 VICKERS LAKE DRIVE      NaN  JACKSONVILLE   \n",
       "3           INCUMBENT             409 2ND ST W      NaN     WHITEFISH   \n",
       "4           INCUMBENT     409 13TH ST, 17TH FL      NaN       OAKLAND   \n",
       "\n",
       "     ...    cas_on_han_beg_of_per  cas_on_han_clo_of_per         net_con  \\\n",
       "0    ...              $60,109.57            $175,613.35   $1,074,949.50    \n",
       "1    ...                      NaN           $105,687.23   $1,406,719.06    \n",
       "2    ...                      NaN            $35,645.09     $650,855.38    \n",
       "3    ...              $83,815.78            $399,122.61   $4,938,943.74    \n",
       "4    ...              $83,690.60            $181,338.23   $1,197,676.61    \n",
       "\n",
       "      net_ope_exp  deb_owe_by_com deb_owe_to_com cov_sta_dat cov_end_dat  \\\n",
       "0    $907,156.21   $1,125,000.00             NaN    1/1/2015  10/19/2016   \n",
       "1  $1,298,831.83              NaN            NaN   11/2/2015  10/19/2016   \n",
       "2    $656,210.29      $60,000.00             NaN    4/1/2016  10/19/2016   \n",
       "3  $5,055,942.15              NaN            NaN    1/1/2015  10/19/2016   \n",
       "4    $949,488.98       $4,401.75             NaN    1/1/2015  10/19/2016   \n",
       "\n",
       "  winner     votes  \n",
       "0      Y  158708.0  \n",
       "1      Y  310770.0  \n",
       "2      Y  286018.0  \n",
       "3      Y  280476.0  \n",
       "4      Y  277390.0  \n",
       "\n",
       "[5 rows x 51 columns]"
      ]
     },
     "execution_count": 3,
     "metadata": {},
     "output_type": "execute_result"
    }
   ],
   "source": [
    "data.head()"
   ]
  },
  {
   "cell_type": "markdown",
   "metadata": {},
   "source": [
    "*******\n",
    "### Clean Data"
   ]
  },
  {
   "cell_type": "code",
   "execution_count": 4,
   "metadata": {},
   "outputs": [
    {
     "data": {
      "text/plain": [
       "Index(['can_id', 'can_nam', 'can_off', 'can_off_sta', 'can_off_dis',\n",
       "       'can_par_aff', 'can_inc_cha_ope_sea', 'can_str1', 'can_str2', 'can_cit',\n",
       "       'can_sta', 'can_zip', 'ind_ite_con', 'ind_uni_con', 'ind_con',\n",
       "       'par_com_con', 'oth_com_con', 'can_con', 'tot_con',\n",
       "       'tra_fro_oth_aut_com', 'can_loa', 'oth_loa', 'tot_loa',\n",
       "       'off_to_ope_exp', 'off_to_fun', 'off_to_leg_acc', 'oth_rec', 'tot_rec',\n",
       "       'ope_exp', 'exe_leg_acc_dis', 'fun_dis', 'tra_to_oth_aut_com',\n",
       "       'can_loa_rep', 'oth_loa_rep', 'tot_loa_rep', 'ind_ref', 'par_com_ref',\n",
       "       'oth_com_ref', 'tot_con_ref', 'oth_dis', 'tot_dis',\n",
       "       'cas_on_han_beg_of_per', 'cas_on_han_clo_of_per', 'net_con',\n",
       "       'net_ope_exp', 'deb_owe_by_com', 'deb_owe_to_com', 'cov_sta_dat',\n",
       "       'cov_end_dat', 'winner', 'votes'],\n",
       "      dtype='object')"
      ]
     },
     "execution_count": 4,
     "metadata": {},
     "output_type": "execute_result"
    }
   ],
   "source": [
    "data.columns"
   ]
  },
  {
   "cell_type": "code",
   "execution_count": 5,
   "metadata": {},
   "outputs": [
    {
     "data": {
      "text/plain": [
       "Y    471\n",
       "Name: winner, dtype: int64"
      ]
     },
     "execution_count": 5,
     "metadata": {},
     "output_type": "execute_result"
    }
   ],
   "source": [
    "data['winner'].value_counts()"
   ]
  },
  {
   "cell_type": "code",
   "execution_count": 38,
   "metadata": {},
   "outputs": [
    {
     "data": {
      "text/plain": [
       "No    1343\n",
       "Y      471\n",
       "Name: winner, dtype: int64"
      ]
     },
     "execution_count": 38,
     "metadata": {},
     "output_type": "execute_result"
    }
   ],
   "source": [
    "data['winner'].fillna('N', inplace=True)\n",
    "data['winner'].value_counts()"
   ]
  },
  {
   "cell_type": "markdown",
   "metadata": {},
   "source": []
  },
  {
   "cell_type": "code",
   "execution_count": 6,
   "metadata": {},
   "outputs": [],
   "source": [
    "# build dictionary of metadata\n",
    "tables = pd.read_html(\"metadata.htm\")\n",
    "zipbObj = zip(tables[0][0],tables[0][1])\n",
    "colNameDictionary = dict(zipbObj)"
   ]
  },
  {
   "cell_type": "code",
   "execution_count": 7,
   "metadata": {},
   "outputs": [
    {
     "data": {
      "text/plain": [
       "Index(['Candidate Id', 'Candidate Name', 'Candidate Office',\n",
       "       'Candidate Office State', 'Candidate Office District',\n",
       "       'Candidate Party Affiliation',\n",
       "       'Candidate Incumbent Challenger Open Seat', 'Candidate Street 1',\n",
       "       'Candidate Street 2', 'Candidate City', 'Candidate State',\n",
       "       'Candidate Zip', 'Individual Itemized Contribution',\n",
       "       'Individual Unitemized Contribution', 'Individual Contribution',\n",
       "       'Party Committee Contribution', 'Other Committee Contribution',\n",
       "       'Candidate Contribution', 'Total Contribution',\n",
       "       'Transfer from other Authorized Committee', 'Candidate Loan',\n",
       "       'Other Loan', 'Total Loan', 'Offsets to Operating Expenditure',\n",
       "       'Offsets to Fundraising', 'Offsets to Legal Accounting',\n",
       "       'Other Receipts', 'Total Receipts', 'Operating Expenditure',\n",
       "       'Exempt Legal Accounting Disbursement', 'Fundraising Disbursement',\n",
       "       'Transfer to Other Authorized Committee', 'Candidate Loan Repayment',\n",
       "       'Other Loan Repayment', 'Total Loan Repayment', 'Individual Refund',\n",
       "       'Party Committee Refund', 'Other Committee Refund',\n",
       "       'Total Contribution Refund', 'Other Disbursement', 'Total Disbursement',\n",
       "       'Cash on Hand Beginning of Period', 'Cash on Hand Close of Period',\n",
       "       'Net Contribution', 'Net Operating Expenditure',\n",
       "       'Debt Owed by Committee', 'Debt Owed to Committee',\n",
       "       'Coverage Start Date', 'Coverage End Date', 'winner', 'votes'],\n",
       "      dtype='object')"
      ]
     },
     "execution_count": 7,
     "metadata": {},
     "output_type": "execute_result"
    }
   ],
   "source": [
    "# rename columns with full data names\n",
    "data.rename(columns = colNameDictionary, inplace = True)\n",
    "data.columns"
   ]
  },
  {
   "cell_type": "code",
   "execution_count": 8,
   "metadata": {},
   "outputs": [],
   "source": [
    "# drop unwanted columns\n",
    "data.drop(['Candidate Loan','Candidate Loan Repayment','Candidate Loan','Candidate Loan Repayment',\n",
    "           'Debt Owed by Committee','Debt Owed to Committee','Exempt Legal Accounting Disbursement',\n",
    "           'Fundraising Disbursement','Individual Itemized Contribution','Individual Refund',\n",
    "           'Individual Unitemized Contribution','Offsets to Fundraising','Offsets to Legal Accounting',\n",
    "           'Offsets to Operating Expenditure','Other Committee Contribution','Other Committee Refund',\n",
    "           'Other Disbursement','Other Loan','Other Loan Repayment','Other Receipts','Party Committee Contribution',\n",
    "           'Party Committee Refund','Transfer from other Authorized Committee',\n",
    "           'Transfer to Other Authorized Committee'], axis=1, inplace=True)"
   ]
  },
  {
   "cell_type": "code",
   "execution_count": 9,
   "metadata": {},
   "outputs": [],
   "source": [
    "# drop all $-signs and commas, replace values in columns with negative numbers and convert all below columns to floats\n",
    "data.replace({'\\$': '', ',': '', '\\(':'-', '\\)':''}, regex=True, inplace = True)\n",
    "\n",
    "cols = ['Individual Contribution', 'Candidate Contribution',\n",
    "       'Total Contribution', 'Total Loan', 'Total Receipts',\n",
    "       'Operating Expenditure', 'Total Loan Repayment',\n",
    "       'Total Contribution Refund', 'Total Disbursement',\n",
    "       'Cash on Hand Beginning of Period', 'Cash on Hand Close of Period',\n",
    "       'Net Contribution', 'Net Operating Expenditure']\n",
    "\n",
    "for i in cols:\n",
    "    data[i] = data[i].astype(float)"
   ]
  },
  {
   "cell_type": "code",
   "execution_count": 10,
   "metadata": {},
   "outputs": [
    {
     "data": {
      "text/html": [
       "<div>\n",
       "<style scoped>\n",
       "    .dataframe tbody tr th:only-of-type {\n",
       "        vertical-align: middle;\n",
       "    }\n",
       "\n",
       "    .dataframe tbody tr th {\n",
       "        vertical-align: top;\n",
       "    }\n",
       "\n",
       "    .dataframe thead th {\n",
       "        text-align: right;\n",
       "    }\n",
       "</style>\n",
       "<table border=\"1\" class=\"dataframe\">\n",
       "  <thead>\n",
       "    <tr style=\"text-align: right;\">\n",
       "      <th></th>\n",
       "      <th>Candidate Id</th>\n",
       "      <th>Candidate Name</th>\n",
       "      <th>Candidate Office</th>\n",
       "      <th>Candidate Office State</th>\n",
       "      <th>Candidate Office District</th>\n",
       "      <th>Candidate Party Affiliation</th>\n",
       "      <th>Candidate Incumbent Challenger Open Seat</th>\n",
       "      <th>Candidate Street 1</th>\n",
       "      <th>Candidate Street 2</th>\n",
       "      <th>Candidate City</th>\n",
       "      <th>...</th>\n",
       "      <th>Total Contribution Refund</th>\n",
       "      <th>Total Disbursement</th>\n",
       "      <th>Cash on Hand Beginning of Period</th>\n",
       "      <th>Cash on Hand Close of Period</th>\n",
       "      <th>Net Contribution</th>\n",
       "      <th>Net Operating Expenditure</th>\n",
       "      <th>Coverage Start Date</th>\n",
       "      <th>Coverage End Date</th>\n",
       "      <th>winner</th>\n",
       "      <th>votes</th>\n",
       "    </tr>\n",
       "  </thead>\n",
       "  <tbody>\n",
       "    <tr>\n",
       "      <th>0</th>\n",
       "      <td>H2GA12121</td>\n",
       "      <td>ALLEN RICHARD W</td>\n",
       "      <td>H</td>\n",
       "      <td>GA</td>\n",
       "      <td>12.0</td>\n",
       "      <td>REP</td>\n",
       "      <td>INCUMBENT</td>\n",
       "      <td>2237 PICKENS RD</td>\n",
       "      <td>NaN</td>\n",
       "      <td>AUGUSTA</td>\n",
       "      <td>...</td>\n",
       "      <td>NaN</td>\n",
       "      <td>978518.98</td>\n",
       "      <td>60109.57</td>\n",
       "      <td>175613.35</td>\n",
       "      <td>1074949.5</td>\n",
       "      <td>907156.21</td>\n",
       "      <td>1/1/2015</td>\n",
       "      <td>10/19/2016</td>\n",
       "      <td>Y</td>\n",
       "      <td>158708.0</td>\n",
       "    </tr>\n",
       "  </tbody>\n",
       "</table>\n",
       "<p>1 rows × 29 columns</p>\n",
       "</div>"
      ],
      "text/plain": [
       "  Candidate Id   Candidate Name Candidate Office Candidate Office State  \\\n",
       "0    H2GA12121  ALLEN RICHARD W                H                     GA   \n",
       "\n",
       "   Candidate Office District Candidate Party Affiliation  \\\n",
       "0                       12.0                         REP   \n",
       "\n",
       "  Candidate Incumbent Challenger Open Seat Candidate Street 1  \\\n",
       "0                                INCUMBENT    2237 PICKENS RD   \n",
       "\n",
       "  Candidate Street 2 Candidate City    ...    Total Contribution Refund  \\\n",
       "0                NaN        AUGUSTA    ...                          NaN   \n",
       "\n",
       "   Total Disbursement  Cash on Hand Beginning of Period  \\\n",
       "0           978518.98                          60109.57   \n",
       "\n",
       "   Cash on Hand Close of Period  Net Contribution  Net Operating Expenditure  \\\n",
       "0                     175613.35         1074949.5                  907156.21   \n",
       "\n",
       "   Coverage Start Date  Coverage End Date  winner     votes  \n",
       "0             1/1/2015         10/19/2016       Y  158708.0  \n",
       "\n",
       "[1 rows x 29 columns]"
      ]
     },
     "execution_count": 10,
     "metadata": {},
     "output_type": "execute_result"
    }
   ],
   "source": [
    "data.head(1)"
   ]
  },
  {
   "cell_type": "markdown",
   "metadata": {},
   "source": [
    "#### Datasets\n",
    "Create unique datasets based on the Candidates Office: House, Senate, President"
   ]
  },
  {
   "cell_type": "code",
   "execution_count": 32,
   "metadata": {},
   "outputs": [],
   "source": [
    "CanH = data[(data['Candidate Office'] == 'H')]\n",
    "CanS = data[(data['Candidate Office'] == 'S')]\n",
    "CanP = data[(data['Candidate Office'] == 'P')]"
   ]
  },
  {
   "cell_type": "markdown",
   "metadata": {},
   "source": [
    "********\n",
    "### Explore Data"
   ]
  },
  {
   "cell_type": "code",
   "execution_count": 34,
   "metadata": {},
   "outputs": [
    {
     "data": {
      "text/plain": [
       "<matplotlib.axes._subplots.AxesSubplot at 0x1a1d9a0da0>"
      ]
     },
     "execution_count": 34,
     "metadata": {},
     "output_type": "execute_result"
    },
    {
     "data": {
      "image/png": "[encoded data removed]",
      "text/plain": [
       "<matplotlib.figure.Figure at 0x1a1da0fef0>"
      ]
     },
     "metadata": {},
     "output_type": "display_data"
    }
   ],
   "source": [
    "sns.barplot(x ='Total Contribution', y='Candidate Incumbent Challenger Open Seat', data=CanH)"
   ]
  },
  {
   "cell_type": "code",
   "execution_count": 39,
   "metadata": {},
   "outputs": [
    {
     "data": {
      "text/plain": [
       "<matplotlib.axes._subplots.AxesSubplot at 0x1a17b94550>"
      ]
     },
     "execution_count": 39,
     "metadata": {},
     "output_type": "execute_result"
    },
    {
     "data": {
      "image/png": "[encoded data removed]",
      "text/plain": [
       "<matplotlib.figure.Figure at 0x1a17c1a4e0>"
      ]
     },
     "metadata": {},
     "output_type": "display_data"
    }
   ],
   "source": [
    "sns.barplot(x ='Total Contribution', y='Candidate Incumbent Challenger Open Seat', data=CanS)"
   ]
  },
  {
   "cell_type": "code",
   "execution_count": 40,
   "metadata": {},
   "outputs": [
    {
     "data": {
      "text/plain": [
       "<matplotlib.axes._subplots.AxesSubplot at 0x1a1d946cc0>"
      ]
     },
     "execution_count": 40,
     "metadata": {},
     "output_type": "execute_result"
    },
    {
     "data": {
      "image/png": "[encoded data removed]",
      "text/plain": [
       "<matplotlib.figure.Figure at 0x1a17b94f28>"
      ]
     },
     "metadata": {},
     "output_type": "display_data"
    }
   ],
   "source": [
    "sns.barplot(x ='Total Contribution', y='Candidate Incumbent Challenger Open Seat', data=CanP)"
   ]
  },
  {
   "cell_type": "code",
   "execution_count": null,
   "metadata": {},
   "outputs": [],
   "source": []
  }
 ],
 "metadata": {
  "kernelspec": {
   "display_name": "Python 3",
   "language": "python",
   "name": "python3"
  },
  "language_info": {
   "codemirror_mode": {
    "name": "ipython",
    "version": 3
   },
   "file_extension": ".py",
   "mimetype": "text/x-python",
   "name": "python",
   "nbconvert_exporter": "python",
   "pygments_lexer": "ipython3",
   "version": "3.6.4"
  }
 },
 "nbformat": 4,
 "nbformat_minor": 2
}
